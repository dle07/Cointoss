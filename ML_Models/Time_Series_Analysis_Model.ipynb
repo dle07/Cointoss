{
  "nbformat": 4,
  "nbformat_minor": 0,
  "metadata": {
    "colab": {
      "provenance": []
    },
    "kernelspec": {
      "name": "python3",
      "display_name": "Python 3"
    },
    "language_info": {
      "name": "python"
    },
    "gpuClass": "standard",
    "accelerator": "GPU"
  },
  "cells": [
    {
      "cell_type": "code",
      "source": [
        "!pip install yfinance"
      ],
      "metadata": {
        "colab": {
          "base_uri": "https://localhost:8080/"
        },
        "id": "ialm9y3V6R2Y",
        "outputId": "6548f4be-69c7-4527-90cd-7cb98372943b"
      },
      "execution_count": null,
      "outputs": [
        {
          "output_type": "stream",
          "name": "stdout",
          "text": [
            "Looking in indexes: https://pypi.org/simple, https://us-python.pkg.dev/colab-wheels/public/simple/\n",
            "Collecting yfinance\n",
            "  Downloading yfinance-0.1.85-py2.py3-none-any.whl (29 kB)\n",
            "Requirement already satisfied: lxml>=4.5.1 in /usr/local/lib/python3.7/dist-packages (from yfinance) (4.9.1)\n",
            "Requirement already satisfied: pandas>=0.24.0 in /usr/local/lib/python3.7/dist-packages (from yfinance) (1.3.5)\n",
            "Collecting requests>=2.26\n",
            "  Downloading requests-2.28.1-py3-none-any.whl (62 kB)\n",
            "\u001b[K     |████████████████████████████████| 62 kB 1.0 MB/s \n",
            "\u001b[?25hRequirement already satisfied: numpy>=1.15 in /usr/local/lib/python3.7/dist-packages (from yfinance) (1.21.6)\n",
            "Requirement already satisfied: multitasking>=0.0.7 in /usr/local/lib/python3.7/dist-packages (from yfinance) (0.0.11)\n",
            "Requirement already satisfied: appdirs>=1.4.4 in /usr/local/lib/python3.7/dist-packages (from yfinance) (1.4.4)\n",
            "Requirement already satisfied: python-dateutil>=2.7.3 in /usr/local/lib/python3.7/dist-packages (from pandas>=0.24.0->yfinance) (2.8.2)\n",
            "Requirement already satisfied: pytz>=2017.3 in /usr/local/lib/python3.7/dist-packages (from pandas>=0.24.0->yfinance) (2022.5)\n",
            "Requirement already satisfied: six>=1.5 in /usr/local/lib/python3.7/dist-packages (from python-dateutil>=2.7.3->pandas>=0.24.0->yfinance) (1.15.0)\n",
            "Requirement already satisfied: charset-normalizer<3,>=2 in /usr/local/lib/python3.7/dist-packages (from requests>=2.26->yfinance) (2.1.1)\n",
            "Requirement already satisfied: idna<4,>=2.5 in /usr/local/lib/python3.7/dist-packages (from requests>=2.26->yfinance) (2.10)\n",
            "Requirement already satisfied: certifi>=2017.4.17 in /usr/local/lib/python3.7/dist-packages (from requests>=2.26->yfinance) (2022.9.24)\n",
            "Requirement already satisfied: urllib3<1.27,>=1.21.1 in /usr/local/lib/python3.7/dist-packages (from requests>=2.26->yfinance) (1.24.3)\n",
            "Installing collected packages: requests, yfinance\n",
            "  Attempting uninstall: requests\n",
            "    Found existing installation: requests 2.23.0\n",
            "    Uninstalling requests-2.23.0:\n",
            "      Successfully uninstalled requests-2.23.0\n",
            "Successfully installed requests-2.28.1 yfinance-0.1.85\n"
          ]
        }
      ]
    },
    {
      "cell_type": "code",
      "execution_count": null,
      "metadata": {
        "id": "0gIksLMhLARF"
      },
      "outputs": [],
      "source": [
        "#imports\n",
        "import math\n",
        "import numpy as np\n",
        "import pandas as pd\n",
        "import tensorflow as tf\n",
        "import matplotlib.pyplot as plt\n",
        "from tensorflow import random\n",
        "from tensorflow.keras import Sequential\n",
        "from tensorflow.keras.layers import LSTM, Dense, Dropout\n",
        "from tensorflow.keras.callbacks import EarlyStopping\n",
        "from sklearn.preprocessing import MinMaxScaler\n",
        "from datetime import date, timedelta, datetime\n",
        "import matplotlib.dates as mdates"
      ]
    },
    {
      "cell_type": "code",
      "source": [
        "#Load a saved model\n",
        "model = tf.keras.models.load_model(\"SP500_Model.h5\")"
      ],
      "metadata": {
        "id": "2aOhZPFNuDv7"
      },
      "execution_count": null,
      "outputs": []
    },
    {
      "cell_type": "code",
      "source": [
        "#load data\n",
        "\n",
        "end_date =  date.today().strftime(\"%Y-%m-%d\")\n",
        "start_date = '2010-01-01'\n",
        "\n",
        "stockname = 'AAPL model'\n",
        "symbol = 'AAPL'\n",
        "\n",
        "import yfinance as yf\n",
        "df = yf.download(symbol)#, start=start_date, end=end_date)\n",
        "\n",
        "df.tail(10)"
      ],
      "metadata": {
        "id": "hGpsKe0M-X_o",
        "colab": {
          "base_uri": "https://localhost:8080/",
          "height": 412
        },
        "outputId": "edf17a61-a512-42bb-f4a0-f7ab706ff198"
      },
      "execution_count": null,
      "outputs": [
        {
          "output_type": "stream",
          "name": "stdout",
          "text": [
            "\r[*********************100%***********************]  1 of 1 completed\n"
          ]
        },
        {
          "output_type": "execute_result",
          "data": {
            "text/plain": [
              "                  Open        High         Low       Close   Adj Close  \\\n",
              "Date                                                                     \n",
              "2022-10-24  147.190002  150.229996  146.000000  149.449997  149.202484   \n",
              "2022-10-25  150.089996  152.490005  149.360001  152.339996  152.087708   \n",
              "2022-10-26  150.960007  151.990005  148.039993  149.350006  149.102661   \n",
              "2022-10-27  148.070007  149.050003  144.130005  144.800003  144.560196   \n",
              "2022-10-28  148.199997  157.500000  147.820007  155.740005  155.482086   \n",
              "2022-10-31  153.160004  154.240005  151.919998  153.339996  153.086044   \n",
              "2022-11-01  155.080002  155.449997  149.130005  150.649994  150.400497   \n",
              "2022-11-02  148.949997  152.169998  145.000000  145.029999  144.789810   \n",
              "2022-11-03  142.059998  142.800003  138.750000  138.880005  138.650009   \n",
              "2022-11-04  142.089996  142.669998  134.380005  138.380005  138.380005   \n",
              "\n",
              "               Volume  \n",
              "Date                   \n",
              "2022-10-24   75981900  \n",
              "2022-10-25   74732300  \n",
              "2022-10-26   88194300  \n",
              "2022-10-27  109180200  \n",
              "2022-10-28  164762400  \n",
              "2022-10-31   97943200  \n",
              "2022-11-01   80379300  \n",
              "2022-11-02   93604600  \n",
              "2022-11-03   97918500  \n",
              "2022-11-04  140716700  "
            ],
            "text/html": [
              "\n",
              "  <div id=\"df-68ef182b-7769-42de-8291-89216ea51217\">\n",
              "    <div class=\"colab-df-container\">\n",
              "      <div>\n",
              "<style scoped>\n",
              "    .dataframe tbody tr th:only-of-type {\n",
              "        vertical-align: middle;\n",
              "    }\n",
              "\n",
              "    .dataframe tbody tr th {\n",
              "        vertical-align: top;\n",
              "    }\n",
              "\n",
              "    .dataframe thead th {\n",
              "        text-align: right;\n",
              "    }\n",
              "</style>\n",
              "<table border=\"1\" class=\"dataframe\">\n",
              "  <thead>\n",
              "    <tr style=\"text-align: right;\">\n",
              "      <th></th>\n",
              "      <th>Open</th>\n",
              "      <th>High</th>\n",
              "      <th>Low</th>\n",
              "      <th>Close</th>\n",
              "      <th>Adj Close</th>\n",
              "      <th>Volume</th>\n",
              "    </tr>\n",
              "    <tr>\n",
              "      <th>Date</th>\n",
              "      <th></th>\n",
              "      <th></th>\n",
              "      <th></th>\n",
              "      <th></th>\n",
              "      <th></th>\n",
              "      <th></th>\n",
              "    </tr>\n",
              "  </thead>\n",
              "  <tbody>\n",
              "    <tr>\n",
              "      <th>2022-10-24</th>\n",
              "      <td>147.190002</td>\n",
              "      <td>150.229996</td>\n",
              "      <td>146.000000</td>\n",
              "      <td>149.449997</td>\n",
              "      <td>149.202484</td>\n",
              "      <td>75981900</td>\n",
              "    </tr>\n",
              "    <tr>\n",
              "      <th>2022-10-25</th>\n",
              "      <td>150.089996</td>\n",
              "      <td>152.490005</td>\n",
              "      <td>149.360001</td>\n",
              "      <td>152.339996</td>\n",
              "      <td>152.087708</td>\n",
              "      <td>74732300</td>\n",
              "    </tr>\n",
              "    <tr>\n",
              "      <th>2022-10-26</th>\n",
              "      <td>150.960007</td>\n",
              "      <td>151.990005</td>\n",
              "      <td>148.039993</td>\n",
              "      <td>149.350006</td>\n",
              "      <td>149.102661</td>\n",
              "      <td>88194300</td>\n",
              "    </tr>\n",
              "    <tr>\n",
              "      <th>2022-10-27</th>\n",
              "      <td>148.070007</td>\n",
              "      <td>149.050003</td>\n",
              "      <td>144.130005</td>\n",
              "      <td>144.800003</td>\n",
              "      <td>144.560196</td>\n",
              "      <td>109180200</td>\n",
              "    </tr>\n",
              "    <tr>\n",
              "      <th>2022-10-28</th>\n",
              "      <td>148.199997</td>\n",
              "      <td>157.500000</td>\n",
              "      <td>147.820007</td>\n",
              "      <td>155.740005</td>\n",
              "      <td>155.482086</td>\n",
              "      <td>164762400</td>\n",
              "    </tr>\n",
              "    <tr>\n",
              "      <th>2022-10-31</th>\n",
              "      <td>153.160004</td>\n",
              "      <td>154.240005</td>\n",
              "      <td>151.919998</td>\n",
              "      <td>153.339996</td>\n",
              "      <td>153.086044</td>\n",
              "      <td>97943200</td>\n",
              "    </tr>\n",
              "    <tr>\n",
              "      <th>2022-11-01</th>\n",
              "      <td>155.080002</td>\n",
              "      <td>155.449997</td>\n",
              "      <td>149.130005</td>\n",
              "      <td>150.649994</td>\n",
              "      <td>150.400497</td>\n",
              "      <td>80379300</td>\n",
              "    </tr>\n",
              "    <tr>\n",
              "      <th>2022-11-02</th>\n",
              "      <td>148.949997</td>\n",
              "      <td>152.169998</td>\n",
              "      <td>145.000000</td>\n",
              "      <td>145.029999</td>\n",
              "      <td>144.789810</td>\n",
              "      <td>93604600</td>\n",
              "    </tr>\n",
              "    <tr>\n",
              "      <th>2022-11-03</th>\n",
              "      <td>142.059998</td>\n",
              "      <td>142.800003</td>\n",
              "      <td>138.750000</td>\n",
              "      <td>138.880005</td>\n",
              "      <td>138.650009</td>\n",
              "      <td>97918500</td>\n",
              "    </tr>\n",
              "    <tr>\n",
              "      <th>2022-11-04</th>\n",
              "      <td>142.089996</td>\n",
              "      <td>142.669998</td>\n",
              "      <td>134.380005</td>\n",
              "      <td>138.380005</td>\n",
              "      <td>138.380005</td>\n",
              "      <td>140716700</td>\n",
              "    </tr>\n",
              "  </tbody>\n",
              "</table>\n",
              "</div>\n",
              "      <button class=\"colab-df-convert\" onclick=\"convertToInteractive('df-68ef182b-7769-42de-8291-89216ea51217')\"\n",
              "              title=\"Convert this dataframe to an interactive table.\"\n",
              "              style=\"display:none;\">\n",
              "        \n",
              "  <svg xmlns=\"http://www.w3.org/2000/svg\" height=\"24px\"viewBox=\"0 0 24 24\"\n",
              "       width=\"24px\">\n",
              "    <path d=\"M0 0h24v24H0V0z\" fill=\"none\"/>\n",
              "    <path d=\"M18.56 5.44l.94 2.06.94-2.06 2.06-.94-2.06-.94-.94-2.06-.94 2.06-2.06.94zm-11 1L8.5 8.5l.94-2.06 2.06-.94-2.06-.94L8.5 2.5l-.94 2.06-2.06.94zm10 10l.94 2.06.94-2.06 2.06-.94-2.06-.94-.94-2.06-.94 2.06-2.06.94z\"/><path d=\"M17.41 7.96l-1.37-1.37c-.4-.4-.92-.59-1.43-.59-.52 0-1.04.2-1.43.59L10.3 9.45l-7.72 7.72c-.78.78-.78 2.05 0 2.83L4 21.41c.39.39.9.59 1.41.59.51 0 1.02-.2 1.41-.59l7.78-7.78 2.81-2.81c.8-.78.8-2.07 0-2.86zM5.41 20L4 18.59l7.72-7.72 1.47 1.35L5.41 20z\"/>\n",
              "  </svg>\n",
              "      </button>\n",
              "      \n",
              "  <style>\n",
              "    .colab-df-container {\n",
              "      display:flex;\n",
              "      flex-wrap:wrap;\n",
              "      gap: 12px;\n",
              "    }\n",
              "\n",
              "    .colab-df-convert {\n",
              "      background-color: #E8F0FE;\n",
              "      border: none;\n",
              "      border-radius: 50%;\n",
              "      cursor: pointer;\n",
              "      display: none;\n",
              "      fill: #1967D2;\n",
              "      height: 32px;\n",
              "      padding: 0 0 0 0;\n",
              "      width: 32px;\n",
              "    }\n",
              "\n",
              "    .colab-df-convert:hover {\n",
              "      background-color: #E2EBFA;\n",
              "      box-shadow: 0px 1px 2px rgba(60, 64, 67, 0.3), 0px 1px 3px 1px rgba(60, 64, 67, 0.15);\n",
              "      fill: #174EA6;\n",
              "    }\n",
              "\n",
              "    [theme=dark] .colab-df-convert {\n",
              "      background-color: #3B4455;\n",
              "      fill: #D2E3FC;\n",
              "    }\n",
              "\n",
              "    [theme=dark] .colab-df-convert:hover {\n",
              "      background-color: #434B5C;\n",
              "      box-shadow: 0px 1px 3px 1px rgba(0, 0, 0, 0.15);\n",
              "      filter: drop-shadow(0px 1px 2px rgba(0, 0, 0, 0.3));\n",
              "      fill: #FFFFFF;\n",
              "    }\n",
              "  </style>\n",
              "\n",
              "      <script>\n",
              "        const buttonEl =\n",
              "          document.querySelector('#df-68ef182b-7769-42de-8291-89216ea51217 button.colab-df-convert');\n",
              "        buttonEl.style.display =\n",
              "          google.colab.kernel.accessAllowed ? 'block' : 'none';\n",
              "\n",
              "        async function convertToInteractive(key) {\n",
              "          const element = document.querySelector('#df-68ef182b-7769-42de-8291-89216ea51217');\n",
              "          const dataTable =\n",
              "            await google.colab.kernel.invokeFunction('convertToInteractive',\n",
              "                                                     [key], {});\n",
              "          if (!dataTable) return;\n",
              "\n",
              "          const docLinkHtml = 'Like what you see? Visit the ' +\n",
              "            '<a target=\"_blank\" href=https://colab.research.google.com/notebooks/data_table.ipynb>data table notebook</a>'\n",
              "            + ' to learn more about interactive tables.';\n",
              "          element.innerHTML = '';\n",
              "          dataTable['output_type'] = 'display_data';\n",
              "          await google.colab.output.renderOutput(dataTable, element);\n",
              "          const docLink = document.createElement('div');\n",
              "          docLink.innerHTML = docLinkHtml;\n",
              "          element.appendChild(docLink);\n",
              "        }\n",
              "      </script>\n",
              "    </div>\n",
              "  </div>\n",
              "  "
            ]
          },
          "metadata": {},
          "execution_count": 4
        }
      ]
    },
    {
      "cell_type": "code",
      "source": [
        "train_df = df.sort_values(by=['Date']).copy()\n",
        "\n",
        "# List of considered Features\n",
        "FEATURES = ['High', 'Low', 'Open', 'Close', 'Volume', 'Adj Close']\n",
        "\n",
        "# Create the dataset with features and filter the data to the list of FEATURES\n",
        "data = pd.DataFrame(train_df)\n",
        "data_filtered = data[FEATURES]\n",
        "\n",
        "# We add a prediction column and set dummy values to prepare the data for scaling\n",
        "data_filtered_ext = data_filtered.copy()\n",
        "data_filtered_ext['Prediction'] = data_filtered_ext['Close']"
      ],
      "metadata": {
        "id": "8SOcBivv_OfV"
      },
      "execution_count": null,
      "outputs": []
    },
    {
      "cell_type": "code",
      "source": [
        "# Get the number of rows in the data\n",
        "nrows = data_filtered.shape[0]\n",
        "\n",
        "# Convert the data to numpy values\n",
        "np_data_unscaled = np.array(data_filtered)\n",
        "np_data = np.reshape(np_data_unscaled, (nrows, -1))\n",
        "\n",
        "# Transform the data by scaling each feature to a range between 0 and 1\n",
        "scaler = MinMaxScaler()\n",
        "np_data_scaled = scaler.fit_transform(np_data_unscaled)\n",
        "\n",
        "# Creating a separate scaler that works on a single column for scaling predictions\n",
        "scaler_pred = MinMaxScaler()\n",
        "df_Close = pd.DataFrame(data_filtered_ext['Close'])\n",
        "np_Close_scaled = scaler_pred.fit_transform(df_Close)"
      ],
      "metadata": {
        "id": "lpy0MmaRndSH"
      },
      "execution_count": null,
      "outputs": []
    },
    {
      "cell_type": "code",
      "source": [
        "# Set the sequence length - this is the timeframe used to make a single prediction\n",
        "sequence_length = 100\n",
        "\n",
        "# Prediction Index\n",
        "index_close = data.columns.get_loc(\"Close\")\n",
        "\n",
        "# Split the training data into train, validation, and test data sets\n",
        "train_data_len = math.ceil(np_data_scaled.shape[0] * 0.8)\n",
        "valid_data_len = math.ceil(np_data_scaled.shape[0] * 0.1)\n",
        "\n",
        "# Create the training, validation, and test data\n",
        "train_data = np_data_scaled[0:train_data_len, :]\n",
        "valid_data = np_data_scaled[train_data_len:train_data_len+valid_data_len, :]\n",
        "test_data = np_data_scaled[(train_data_len+valid_data_len) - sequence_length:, :]"
      ],
      "metadata": {
        "id": "mTgpiuspJRd2"
      },
      "execution_count": null,
      "outputs": []
    },
    {
      "cell_type": "code",
      "source": [
        "#function to change data into format where x is the steps used to make the prediction and y is the prediction we want\n",
        "def partition_dataset(nsteps, data, forcast_range):\n",
        "    x, y = [], []\n",
        "    data_len = data.shape[0]\n",
        "    for i in range(nsteps, data_len-forcast_range):\n",
        "        x.append(data[i-nsteps:i,:]) #contains sequence_length values 0-sequence_length * column\n",
        "        y.append(data[i:i+forcast_range, index_close]) #contains the prediction values for validation,  for single-step prediction\n",
        "    \n",
        "    # Convert the x and y to numpy arrays\n",
        "    x = np.array(x)\n",
        "    y = np.array(y)\n",
        "    return x, y"
      ],
      "metadata": {
        "id": "WDpOWxBsKGlX"
      },
      "execution_count": null,
      "outputs": []
    },
    {
      "cell_type": "code",
      "source": [
        "#use previous function to get data into right format\n",
        "x_train, y_train = partition_dataset(sequence_length, train_data, 5)\n",
        "x_valid, y_valid = partition_dataset(sequence_length, valid_data, 5)\n",
        "x_test, y_test = partition_dataset(sequence_length, test_data, 5)"
      ],
      "metadata": {
        "id": "Ww7StKW_K6qT"
      },
      "execution_count": null,
      "outputs": []
    },
    {
      "cell_type": "code",
      "source": [
        "#Create The model\n",
        "\n",
        "model = Sequential()\n",
        "\n",
        "inputSize = x_train.shape[1] * x_train.shape[2]\n",
        "\n",
        "model.add(LSTM(inputSize, return_sequences=True, input_shape=(x_train.shape[1], x_train.shape[2]))) \n",
        "model.add(LSTM(inputSize, return_sequences=False))\n",
        "model.add(Dense(5))\n",
        "\n",
        "# Compile the model\n",
        "model.compile(optimizer='adam', loss='mse')"
      ],
      "metadata": {
        "id": "GuxkuiaTLPBZ"
      },
      "execution_count": null,
      "outputs": []
    },
    {
      "cell_type": "code",
      "source": [
        "#Train the model\n",
        "early_stop = EarlyStopping(monitor='val_loss', patience=20, verbose=1, restore_best_weights=True)\n",
        "history = model.fit(x_train,y_train,\n",
        "                    batch_size=16,\n",
        "                    epochs = 100,\n",
        "                    validation_data=(x_valid, y_valid),\n",
        "                    callbacks=early_stop\n",
        "                    )"
      ],
      "metadata": {
        "colab": {
          "base_uri": "https://localhost:8080/"
        },
        "id": "2Zu1RHFaMdGM",
        "outputId": "f828ba4e-b3b7-46f9-a486-d78193ebb3b8"
      },
      "execution_count": null,
      "outputs": [
        {
          "output_type": "stream",
          "name": "stdout",
          "text": [
            "Epoch 1/100\n",
            "156/156 [==============================] - 17s 35ms/step - loss: 4.2959e-04 - val_loss: 9.9775e-04\n",
            "Epoch 2/100\n",
            "156/156 [==============================] - 5s 30ms/step - loss: 9.9600e-05 - val_loss: 0.0012\n",
            "Epoch 3/100\n",
            "156/156 [==============================] - 5s 30ms/step - loss: 9.0917e-05 - val_loss: 7.4535e-04\n",
            "Epoch 4/100\n",
            "156/156 [==============================] - 5s 31ms/step - loss: 9.2292e-05 - val_loss: 0.0018\n",
            "Epoch 5/100\n",
            "156/156 [==============================] - 5s 31ms/step - loss: 7.0161e-05 - val_loss: 7.9484e-04\n",
            "Epoch 6/100\n",
            "156/156 [==============================] - 5s 31ms/step - loss: 6.2014e-05 - val_loss: 0.0010\n",
            "Epoch 7/100\n",
            "156/156 [==============================] - 5s 31ms/step - loss: 6.2111e-05 - val_loss: 8.5972e-04\n",
            "Epoch 8/100\n",
            "156/156 [==============================] - 5s 31ms/step - loss: 5.7598e-05 - val_loss: 7.0940e-04\n",
            "Epoch 9/100\n",
            "156/156 [==============================] - 5s 31ms/step - loss: 5.3754e-05 - val_loss: 5.5293e-04\n",
            "Epoch 10/100\n",
            "156/156 [==============================] - 5s 31ms/step - loss: 5.0864e-05 - val_loss: 0.0014\n",
            "Epoch 11/100\n",
            "156/156 [==============================] - 5s 31ms/step - loss: 7.3616e-05 - val_loss: 5.3565e-04\n",
            "Epoch 12/100\n",
            "156/156 [==============================] - 5s 33ms/step - loss: 5.6761e-05 - val_loss: 0.0028\n",
            "Epoch 13/100\n",
            "156/156 [==============================] - 5s 31ms/step - loss: 5.9163e-05 - val_loss: 5.4733e-04\n",
            "Epoch 14/100\n",
            "156/156 [==============================] - 5s 32ms/step - loss: 5.4793e-05 - val_loss: 6.0032e-04\n",
            "Epoch 15/100\n",
            "156/156 [==============================] - 5s 32ms/step - loss: 5.1316e-05 - val_loss: 0.0013\n",
            "Epoch 16/100\n",
            "156/156 [==============================] - 5s 32ms/step - loss: 5.0665e-05 - val_loss: 5.0992e-04\n",
            "Epoch 17/100\n",
            "156/156 [==============================] - 5s 32ms/step - loss: 5.2157e-05 - val_loss: 8.2972e-04\n",
            "Epoch 18/100\n",
            "156/156 [==============================] - 5s 32ms/step - loss: 4.4014e-05 - val_loss: 7.1214e-04\n",
            "Epoch 19/100\n",
            "156/156 [==============================] - 5s 32ms/step - loss: 5.1106e-05 - val_loss: 0.0027\n",
            "Epoch 20/100\n",
            "156/156 [==============================] - 5s 32ms/step - loss: 6.0089e-05 - val_loss: 5.5053e-04\n",
            "Epoch 21/100\n",
            "156/156 [==============================] - 5s 33ms/step - loss: 4.6550e-05 - val_loss: 0.0028\n",
            "Epoch 22/100\n",
            "156/156 [==============================] - 5s 33ms/step - loss: 5.1405e-05 - val_loss: 0.0026\n",
            "Epoch 23/100\n",
            "156/156 [==============================] - 5s 33ms/step - loss: 5.6106e-05 - val_loss: 7.6959e-04\n",
            "Epoch 24/100\n",
            "156/156 [==============================] - 5s 32ms/step - loss: 5.2513e-05 - val_loss: 8.5331e-04\n",
            "Epoch 25/100\n",
            "156/156 [==============================] - 5s 32ms/step - loss: 4.5804e-05 - val_loss: 6.8685e-04\n",
            "Epoch 26/100\n",
            "156/156 [==============================] - 5s 32ms/step - loss: 4.7122e-05 - val_loss: 7.7401e-04\n",
            "Epoch 27/100\n",
            "156/156 [==============================] - 5s 32ms/step - loss: 4.4704e-05 - val_loss: 0.0011\n",
            "Epoch 28/100\n",
            "156/156 [==============================] - 5s 32ms/step - loss: 4.7108e-05 - val_loss: 0.0027\n",
            "Epoch 29/100\n",
            "156/156 [==============================] - 5s 32ms/step - loss: 5.0510e-05 - val_loss: 5.8831e-04\n",
            "Epoch 30/100\n",
            "156/156 [==============================] - 5s 32ms/step - loss: 5.4683e-05 - val_loss: 0.0013\n",
            "Epoch 31/100\n",
            "156/156 [==============================] - 5s 32ms/step - loss: 5.1592e-05 - val_loss: 0.0015\n",
            "Epoch 32/100\n",
            "156/156 [==============================] - 5s 32ms/step - loss: 5.2740e-05 - val_loss: 5.3019e-04\n",
            "Epoch 33/100\n",
            "156/156 [==============================] - 5s 32ms/step - loss: 5.2856e-05 - val_loss: 5.2487e-04\n",
            "Epoch 34/100\n",
            "156/156 [==============================] - 5s 32ms/step - loss: 4.4590e-05 - val_loss: 4.6973e-04\n",
            "Epoch 35/100\n",
            "156/156 [==============================] - 5s 32ms/step - loss: 4.3237e-05 - val_loss: 0.0047\n",
            "Epoch 36/100\n",
            "156/156 [==============================] - 6s 36ms/step - loss: 5.2174e-05 - val_loss: 6.3578e-04\n",
            "Epoch 37/100\n",
            "156/156 [==============================] - 5s 34ms/step - loss: 4.8455e-05 - val_loss: 5.1232e-04\n",
            "Epoch 38/100\n",
            "156/156 [==============================] - 5s 32ms/step - loss: 4.7057e-05 - val_loss: 5.8175e-04\n",
            "Epoch 39/100\n",
            "156/156 [==============================] - 5s 32ms/step - loss: 4.7182e-05 - val_loss: 0.0011\n",
            "Epoch 40/100\n",
            "156/156 [==============================] - 5s 32ms/step - loss: 4.2223e-05 - val_loss: 8.5833e-04\n",
            "Epoch 41/100\n",
            "156/156 [==============================] - 5s 32ms/step - loss: 5.3777e-05 - val_loss: 0.0011\n",
            "Epoch 42/100\n",
            "156/156 [==============================] - 5s 32ms/step - loss: 4.4342e-05 - val_loss: 5.0004e-04\n",
            "Epoch 43/100\n",
            "156/156 [==============================] - 5s 32ms/step - loss: 4.2784e-05 - val_loss: 7.1558e-04\n",
            "Epoch 44/100\n",
            "156/156 [==============================] - 5s 32ms/step - loss: 4.5670e-05 - val_loss: 5.1304e-04\n",
            "Epoch 45/100\n",
            "156/156 [==============================] - 5s 32ms/step - loss: 4.9609e-05 - val_loss: 5.2200e-04\n",
            "Epoch 46/100\n",
            "156/156 [==============================] - 5s 32ms/step - loss: 4.7043e-05 - val_loss: 0.0025\n",
            "Epoch 47/100\n",
            "156/156 [==============================] - 5s 32ms/step - loss: 5.3974e-05 - val_loss: 0.0013\n",
            "Epoch 48/100\n",
            "156/156 [==============================] - 5s 32ms/step - loss: 5.0928e-05 - val_loss: 0.0013\n",
            "Epoch 49/100\n",
            "156/156 [==============================] - 5s 32ms/step - loss: 4.4115e-05 - val_loss: 5.1431e-04\n",
            "Epoch 50/100\n",
            "156/156 [==============================] - 5s 32ms/step - loss: 4.4145e-05 - val_loss: 5.6476e-04\n",
            "Epoch 51/100\n",
            "156/156 [==============================] - 5s 32ms/step - loss: 4.7781e-05 - val_loss: 0.0014\n",
            "Epoch 52/100\n",
            "156/156 [==============================] - 5s 33ms/step - loss: 4.4237e-05 - val_loss: 7.1667e-04\n",
            "Epoch 53/100\n",
            "156/156 [==============================] - 5s 32ms/step - loss: 4.7612e-05 - val_loss: 0.0014\n",
            "Epoch 54/100\n",
            "155/156 [============================>.] - ETA: 0s - loss: 4.4660e-05Restoring model weights from the end of the best epoch: 34.\n",
            "156/156 [==============================] - 5s 32ms/step - loss: 4.4652e-05 - val_loss: 6.0508e-04\n",
            "Epoch 54: early stopping\n"
          ]
        }
      ]
    },
    {
      "cell_type": "code",
      "source": [
        "#Evaluate Performance\n",
        "\n",
        "#Get predictions\n",
        "y_pred_scaled = model.predict(x_test)\n",
        "y_pred = scaler_pred.inverse_transform(y_pred_scaled)\n",
        "y = scaler_pred.inverse_transform(y_test.reshape(-1,1))\n",
        "\n",
        "#create graph\n",
        "X_new = scaler.inverse_transform(x_test[x_test.shape[0] - 1])[0:,index_close]\n",
        "Y_new = scaler_pred.inverse_transform(y_test)[y_test.shape[0]-1]\n",
        "YY = scaler_pred.inverse_transform(y_test)\n",
        "plt.title(\"AAPLE with Apple Model\")\n",
        "#plt.plot(X_new)\n",
        "plt.plot(Y_new, label=\"Actual\", marker = \"D\")\n",
        "plt.plot(y_pred[y_pred.shape[0]-1], label=\"Forcast\", marker = \"D\")\n",
        "plt.legend(fontsize=14)\n",
        "plt.show()"
      ],
      "metadata": {
        "colab": {
          "base_uri": "https://localhost:8080/",
          "height": 299
        },
        "id": "qFO5BQAzNCDM",
        "outputId": "a1d57761-cc69-4b10-846b-3ddd1efb7116"
      },
      "execution_count": null,
      "outputs": [
        {
          "output_type": "stream",
          "name": "stdout",
          "text": [
            "10/10 [==============================] - 0s 21ms/step\n"
          ]
        },
        {
          "output_type": "display_data",
          "data": {
            "text/plain": [
              "<Figure size 432x288 with 1 Axes>"
            ],
            "image/png": "[encoded data removed]"
          },
          "metadata": {
            "needs_background": "light"
          }
        }
      ]
    },
    {
      "cell_type": "code",
      "source": [
        "df_temp = df[-sequence_length:]\n",
        "new_df = df_temp.filter(FEATURES)\n",
        "\n",
        "N = sequence_length\n",
        "\n",
        "# Get the last N day closing price values and scale the data to be values between 0 and 1\n",
        "last_N_days = new_df[-sequence_length:].values\n",
        "last_N_days_scaled = scaler.transform(last_N_days)\n",
        "\n",
        "# Create an empty list and Append past N days\n",
        "X_test_new = []\n",
        "X_test_new.append(last_N_days_scaled)\n",
        "\n",
        "# Convert the X_test data set to a numpy array and reshape the data\n",
        "pred_price_scaled = model.predict(np.array(X_test_new))\n",
        "pred_price_unscaled = scaler_pred.inverse_transform(pred_price_scaled.reshape(-1, 1))\n",
        "\n",
        "print(pred_price_unscaled)"
      ],
      "metadata": {
        "colab": {
          "base_uri": "https://localhost:8080/"
        },
        "id": "qubaTHtDP48V",
        "outputId": "26527433-6272-43b1-e32e-1f626a49e456"
      },
      "execution_count": null,
      "outputs": [
        {
          "output_type": "stream",
          "name": "stdout",
          "text": [
            "1/1 [==============================] - 0s 27ms/step\n",
            "[[138.47029]\n",
            " [139.33092]\n",
            " [139.10307]\n",
            " [139.8218 ]\n",
            " [139.33133]]\n"
          ]
        }
      ]
    },
    {
      "cell_type": "code",
      "source": [
        "model.save(\"AAPL_Model.h5\")"
      ],
      "metadata": {
        "id": "PyjcNAZZ1mmw"
      },
      "execution_count": null,
      "outputs": []
    },
    {
      "cell_type": "code",
      "source": [
        "from google.colab import files\n",
        "files.download(\"AAPL_Model.h5\")"
      ],
      "metadata": {
        "colab": {
          "base_uri": "https://localhost:8080/",
          "height": 17
        },
        "id": "doUmzMPUIYJ3",
        "outputId": "a9f2ff22-c059-4a0c-b536-3a175cdeff2b"
      },
      "execution_count": null,
      "outputs": [
        {
          "output_type": "display_data",
          "data": {
            "text/plain": [
              "<IPython.core.display.Javascript object>"
            ],
            "application/javascript": [
              "\n",
              "    async function download(id, filename, size) {\n",
              "      if (!google.colab.kernel.accessAllowed) {\n",
              "        return;\n",
              "      }\n",
              "      const div = document.createElement('div');\n",
              "      const label = document.createElement('label');\n",
              "      label.textContent = `Downloading \"${filename}\": `;\n",
              "      div.appendChild(label);\n",
              "      const progress = document.createElement('progress');\n",
              "      progress.max = size;\n",
              "      div.appendChild(progress);\n",
              "      document.body.appendChild(div);\n",
              "\n",
              "      const buffers = [];\n",
              "      let downloaded = 0;\n",
              "\n",
              "      const channel = await google.colab.kernel.comms.open(id);\n",
              "      // Send a message to notify the kernel that we're ready.\n",
              "      channel.send({})\n",
              "\n",
              "      for await (const message of channel.messages) {\n",
              "        // Send a message to notify the kernel that we're ready.\n",
              "        channel.send({})\n",
              "        if (message.buffers) {\n",
              "          for (const buffer of message.buffers) {\n",
              "            buffers.push(buffer);\n",
              "            downloaded += buffer.byteLength;\n",
              "            progress.value = downloaded;\n",
              "          }\n",
              "        }\n",
              "      }\n",
              "      const blob = new Blob(buffers, {type: 'application/binary'});\n",
              "      const a = document.createElement('a');\n",
              "      a.href = window.URL.createObjectURL(blob);\n",
              "      a.download = filename;\n",
              "      div.appendChild(a);\n",
              "      a.click();\n",
              "      div.remove();\n",
              "    }\n",
              "  "
            ]
          },
          "metadata": {}
        },
        {
          "output_type": "display_data",
          "data": {
            "text/plain": [
              "<IPython.core.display.Javascript object>"
            ],
            "application/javascript": [
              "download(\"download_82467810-5a0d-4a83-81ab-91eb8ff55126\", \"AAPL_Model.h5\", 52147968)"
            ]
          },
          "metadata": {}
        }
      ]
    }
  ]
}